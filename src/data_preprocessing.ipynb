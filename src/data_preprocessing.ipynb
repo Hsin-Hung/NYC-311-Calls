{
 "cells": [
  {
   "cell_type": "code",
   "execution_count": 0,
   "metadata": {
    "application/vnd.databricks.v1+cell": {
     "cellMetadata": {
      "byteLimit": 2048000,
      "rowLimit": 10000
     },
     "inputWidgets": {},
     "nuid": "c9695555-064f-4d7a-884d-91c4c1f3440d",
     "showTitle": false,
     "title": ""
    }
   },
   "outputs": [],
   "source": [
    "from pyspark.sql import SparkSession\n",
    "from pyspark.sql.functions import col, lower, replace, count, when, isnan, isnull, to_timestamp, unix_timestamp, countDistinct\n",
    "from pyspark.sql.types import StructType, StructField, TimestampType\n",
    "from pyspark.ml.feature import StringIndexer\n",
    "\n",
    "spark = SparkSession.builder.appName(\"NYC311Calls\").getOrCreate()\n"
   ]
  },
  {
   "cell_type": "markdown",
   "metadata": {
    "application/vnd.databricks.v1+cell": {
     "cellMetadata": {},
     "inputWidgets": {},
     "nuid": "3d60621f-b0a3-41e1-bfb9-abe3a7145c54",
     "showTitle": false,
     "title": ""
    }
   },
   "source": [
    "### Data Descriptions"
   ]
  },
  {
   "cell_type": "markdown",
   "metadata": {
    "application/vnd.databricks.v1+cell": {
     "cellMetadata": {},
     "inputWidgets": {},
     "nuid": "5046ae4b-a54c-44ee-abb7-4366c649d3a9",
     "showTitle": false,
     "title": ""
    }
   },
   "source": [
    "#### Read Data"
   ]
  },
  {
   "cell_type": "code",
   "execution_count": 0,
   "metadata": {
    "application/vnd.databricks.v1+cell": {
     "cellMetadata": {
      "byteLimit": 2048000,
      "rowLimit": 10000
     },
     "inputWidgets": {},
     "nuid": "4ef7314f-7614-4be5-b3bd-23d0cb104f8e",
     "showTitle": false,
     "title": ""
    }
   },
   "outputs": [],
   "source": [
    "uri = \"enter your path\"\n",
    "\n",
    "data = spark.read.csv(\n",
    "    uri,\n",
    "    header=True,\n",
    "    inferSchema=True\n",
    ")"
   ]
  },
  {
   "cell_type": "markdown",
   "metadata": {
    "application/vnd.databricks.v1+cell": {
     "cellMetadata": {},
     "inputWidgets": {},
     "nuid": "2e66976a-7f77-45ce-9717-4c889d22fdef",
     "showTitle": false,
     "title": ""
    }
   },
   "source": [
    "#### Data Samples"
   ]
  },
  {
   "cell_type": "code",
   "execution_count": 0,
   "metadata": {
    "application/vnd.databricks.v1+cell": {
     "cellMetadata": {
      "byteLimit": 2048000,
      "rowLimit": 10000
     },
     "inputWidgets": {},
     "nuid": "e893b330-2b0d-4655-9b3c-30518d78fb02",
     "showTitle": false,
     "title": ""
    }
   },
   "outputs": [
    {
     "output_type": "stream",
     "name": "stdout",
     "output_type": "stream",
     "text": [
      "+----------+--------------------+-----------+------+--------------------+-----------------+-----------------+-------------+------------+--------------------+------------------+--------------------+------------------+---------------------+---------------------+------------+-------------------+--------+-------------+------+--------+----------------------+------------------------------+---------------+----------+--------+--------------------------+--------------------------+----------------------+------------------+------------+------------+--------------------+---------------------+-------------------+------------------------+---------+----------------------+-----------------+------------------+--------------------+---------+-------------------+------------------+----------------------+----------------+---------------+\n|Unique Key|        Created Date|Closed Date|Agency|         Agency Name|   Complaint Type|       Descriptor|Location Type|Incident Zip|    Incident Address|       Street Name|      Cross Street 1|    Cross Street 2|Intersection Street 1|Intersection Street 2|Address Type|               City|Landmark|Facility Type|Status|Due Date|Resolution Description|Resolution Action Updated Date|Community Board|       BBL| Borough|X Coordinate (State Plane)|Y Coordinate (State Plane)|Open Data Channel Type|Park Facility Name|Park Borough|Vehicle Type|Taxi Company Borough|Taxi Pick Up Location|Bridge Highway Name|Bridge Highway Direction|Road Ramp|Bridge Highway Segment|         Latitude|         Longitude|            Location|Zip Codes|Community Districts|Borough Boundaries|City Council Districts|Police Precincts|Police Precinct|\n+----------+--------------------+-----------+------+--------------------+-----------------+-----------------+-------------+------------+--------------------+------------------+--------------------+------------------+---------------------+---------------------+------------+-------------------+--------+-------------+------+--------+----------------------+------------------------------+---------------+----------+--------+--------------------------+--------------------------+----------------------+------------------+------------+------------+--------------------+---------------------+-------------------+------------------------+---------+----------------------+-----------------+------------------+--------------------+---------+-------------------+------------------+----------------------+----------------+---------------+\n|  59642268|12/05/2023 12:00:...|       NULL|  DSNY|Department of San...|Derelict Vehicles|Derelict Vehicles|       Street|       11203|     485 TROY AVENUE|       TROY AVENUE|EAST NEW YORK AVENUE|      MAPLE STREET|                 NULL|                 NULL|     ADDRESS|           BROOKLYN|    NULL|  DSNY Garage|  Open|    NULL|  If the abandoned ...|          12/05/2023 12:00:...|    09 BROOKLYN|3048060001|BROOKLYN|                   1001651|                    180442|                 PHONE|       Unspecified|    BROOKLYN|        NULL|                NULL|                 NULL|               NULL|                    NULL|     NULL|                  NULL|40.66193122462149|-73.93727993767622|(40.6619312246214...|    16866|                 17|                 2|                    17|              44|             44|\n|  59639609|12/05/2023 12:00:...|       NULL|  DSNY|Department of San...|Derelict Vehicles|Derelict Vehicles|       Street|       11433|   150-30 YATES ROAD|        YATES ROAD|   SUTPHIN BOULEVARD|        154 STREET|                 NULL|                 NULL|     ADDRESS|            JAMAICA|    NULL|         NULL|  Open|    NULL|  If the abandoned ...|          12/05/2023 12:00:...|      12 QUEENS|4101320038|  QUEENS|                   1039966|                    192095|                 PHONE|       Unspecified|      QUEENS|        NULL|                NULL|                 NULL|               NULL|                    NULL|     NULL|                  NULL|40.69375779116747| -73.7990815558646|(40.6937577911674...|    24668|                 41|                 3|                    46|              61|             61|\n|  59635445|12/05/2023 12:00:...|       NULL|  DSNY|Department of San...|Derelict Vehicles|Derelict Vehicles|       Street|       11203| 743 CLARKSON AVENUE|   CLARKSON AVENUE|      EAST 46 STREET|SCHENECTADY AVENUE|                 NULL|                 NULL|     ADDRESS|           BROOKLYN|    NULL|  DSNY Garage|  Open|    NULL|  If the abandoned ...|          12/05/2023 12:00:...|    09 BROOKLYN|      NULL|BROOKLYN|                   1002471|                    178427|                 PHONE|       Unspecified|    BROOKLYN|        NULL|                NULL|                 NULL|               NULL|                    NULL|     NULL|                  NULL| 40.6563988449548|-73.93432978041173|(40.6563988449548...|    16866|                 17|                 2|                    17|              44|             44|\n|  59635446|12/05/2023 12:00:...|       NULL|  DSNY|Department of San...|Derelict Vehicles|Derelict Vehicles|       Street|       11419|   116-98 107 AVENUE|        107 AVENUE|          116 STREET|        117 STREET|                 NULL|                 NULL|     ADDRESS|SOUTH RICHMOND HILL|    NULL|         NULL|  Open|    NULL|  If the abandoned ...|          12/05/2023 12:00:...|      10 QUEENS|      NULL|  QUEENS|                   1032766|                    188473|                 PHONE|       Unspecified|      QUEENS|        NULL|                NULL|                 NULL|               NULL|                    NULL|     NULL|                  NULL|  40.683858652592|-73.82507161090646|(40.683858652592,...|    24015|                 62|                 3|                    46|              64|             64|\n|  59632746|12/05/2023 12:00:...|       NULL|  DSNY|Department of San...|Derelict Vehicles|Derelict Vehicles|       Street|       11203|585 SCHENECTADY A...|SCHENECTADY AVENUE|        RUTLAND ROAD|   WINTHROP STREET|                 NULL|                 NULL|     ADDRESS|           BROOKLYN|    NULL|  DSNY Garage|  Open|    NULL|  If the abandoned ...|          12/05/2023 12:00:...|    09 BROOKLYN|3046020005|BROOKLYN|                   1002531|                    179492|                 PHONE|       Unspecified|    BROOKLYN|        NULL|                NULL|                 NULL|               NULL|                    NULL|     NULL|                  NULL|40.65932191161629|-73.93411064761935|(40.6593219116162...|    16866|                 17|                 2|                    17|              44|             44|\n+----------+--------------------+-----------+------+--------------------+-----------------+-----------------+-------------+------------+--------------------+------------------+--------------------+------------------+---------------------+---------------------+------------+-------------------+--------+-------------+------+--------+----------------------+------------------------------+---------------+----------+--------+--------------------------+--------------------------+----------------------+------------------+------------+------------+--------------------+---------------------+-------------------+------------------------+---------+----------------------+-----------------+------------------+--------------------+---------+-------------------+------------------+----------------------+----------------+---------------+\nonly showing top 5 rows\n\n"
     ]
    }
   ],
   "source": [
    "data.show(5)"
   ]
  },
  {
   "cell_type": "markdown",
   "metadata": {
    "application/vnd.databricks.v1+cell": {
     "cellMetadata": {},
     "inputWidgets": {},
     "nuid": "166ad318-6c44-42e5-a6e1-90d1fe7f238c",
     "showTitle": false,
     "title": ""
    }
   },
   "source": [
    "#### Data Schema"
   ]
  },
  {
   "cell_type": "code",
   "execution_count": 0,
   "metadata": {
    "application/vnd.databricks.v1+cell": {
     "cellMetadata": {
      "byteLimit": 2048000,
      "rowLimit": 10000
     },
     "inputWidgets": {},
     "nuid": "d3b0558b-5540-4c89-ac08-35c0aafddedb",
     "showTitle": false,
     "title": ""
    }
   },
   "outputs": [
    {
     "output_type": "stream",
     "name": "stdout",
     "output_type": "stream",
     "text": [
      "root\n |-- Unique Key: integer (nullable = true)\n |-- Created Date: string (nullable = true)\n |-- Closed Date: string (nullable = true)\n |-- Agency: string (nullable = true)\n |-- Agency Name: string (nullable = true)\n |-- Complaint Type: string (nullable = true)\n |-- Descriptor: string (nullable = true)\n |-- Location Type: string (nullable = true)\n |-- Incident Zip: string (nullable = true)\n |-- Incident Address: string (nullable = true)\n |-- Street Name: string (nullable = true)\n |-- Cross Street 1: string (nullable = true)\n |-- Cross Street 2: string (nullable = true)\n |-- Intersection Street 1: string (nullable = true)\n |-- Intersection Street 2: string (nullable = true)\n |-- Address Type: string (nullable = true)\n |-- City: string (nullable = true)\n |-- Landmark: string (nullable = true)\n |-- Facility Type: string (nullable = true)\n |-- Status: string (nullable = true)\n |-- Due Date: string (nullable = true)\n |-- Resolution Description: string (nullable = true)\n |-- Resolution Action Updated Date: string (nullable = true)\n |-- Community Board: string (nullable = true)\n |-- BBL: long (nullable = true)\n |-- Borough: string (nullable = true)\n |-- X Coordinate (State Plane): integer (nullable = true)\n |-- Y Coordinate (State Plane): integer (nullable = true)\n |-- Open Data Channel Type: string (nullable = true)\n |-- Park Facility Name: string (nullable = true)\n |-- Park Borough: string (nullable = true)\n |-- Vehicle Type: string (nullable = true)\n |-- Taxi Company Borough: string (nullable = true)\n |-- Taxi Pick Up Location: string (nullable = true)\n |-- Bridge Highway Name: string (nullable = true)\n |-- Bridge Highway Direction: string (nullable = true)\n |-- Road Ramp: string (nullable = true)\n |-- Bridge Highway Segment: string (nullable = true)\n |-- Latitude: double (nullable = true)\n |-- Longitude: double (nullable = true)\n |-- Location: string (nullable = true)\n |-- Zip Codes: integer (nullable = true)\n |-- Community Districts: integer (nullable = true)\n |-- Borough Boundaries: integer (nullable = true)\n |-- City Council Districts: integer (nullable = true)\n |-- Police Precincts: integer (nullable = true)\n |-- Police Precinct: integer (nullable = true)\n\n"
     ]
    }
   ],
   "source": [
    "data.printSchema()"
   ]
  },
  {
   "cell_type": "markdown",
   "metadata": {
    "application/vnd.databricks.v1+cell": {
     "cellMetadata": {},
     "inputWidgets": {},
     "nuid": "f4f8d3f7-3085-4d01-81f2-a0e1b88646ca",
     "showTitle": false,
     "title": ""
    }
   },
   "source": [
    "#### Data Size"
   ]
  },
  {
   "cell_type": "code",
   "execution_count": 0,
   "metadata": {
    "application/vnd.databricks.v1+cell": {
     "cellMetadata": {
      "byteLimit": 2048000,
      "rowLimit": 10000
     },
     "inputWidgets": {},
     "nuid": "d18f18d6-de55-42ab-b0f5-c5a9ac399f21",
     "showTitle": false,
     "title": ""
    }
   },
   "outputs": [
    {
     "output_type": "execute_result",
     "data": {
      "text/plain": [
       "9374581"
      ]
     },
     "execution_count": 6,
     "metadata": {},
     "output_type": "execute_result"
    }
   ],
   "source": [
    "data.count()"
   ]
  },
  {
   "cell_type": "markdown",
   "metadata": {
    "application/vnd.databricks.v1+cell": {
     "cellMetadata": {},
     "inputWidgets": {},
     "nuid": "2f292759-f38c-4541-86aa-de398f1bce23",
     "showTitle": false,
     "title": ""
    }
   },
   "source": [
    "#### Nulls Count"
   ]
  },
  {
   "cell_type": "code",
   "execution_count": 0,
   "metadata": {
    "application/vnd.databricks.v1+cell": {
     "cellMetadata": {
      "byteLimit": 2048000,
      "rowLimit": 10000
     },
     "inputWidgets": {},
     "nuid": "6d7376c6-f1ab-446d-81be-2b6ab14e2afc",
     "showTitle": false,
     "title": ""
    }
   },
   "outputs": [
    {
     "output_type": "stream",
     "name": "stdout",
     "output_type": "stream",
     "text": [
      "Null Counts in Each Column:\nUnique Key: 0\nCreated Date: 0\nClosed Date: 367452\nAgency: 0\nAgency Name: 0\nComplaint Type: 0\nDescriptor: 105525\nLocation Type: 1207787\nIncident Zip: 157722\nIncident Address: 429011\nStreet Name: 429328\nCross Street 1: 2586873\nCross Street 2: 2587377\nIntersection Street 1: 3395188\nIntersection Street 2: 3390668\nAddress Type: 1183637\nCity: 508123\nLandmark: 4113063\nFacility Type: 8687500\nStatus: 0\nDue Date: 9347266\nResolution Description: 427235\nResolution Action Updated Date: 141129\nCommunity Board: 7608\nBBL: 1125785\nBorough: 7608\nX Coordinate (State Plane): 168585\nY Coordinate (State Plane): 167463\nOpen Data Channel Type: 0\nPark Facility Name: 0\nPark Borough: 7608\nVehicle Type: 9365786\nTaxi Company Borough: 9369615\nTaxi Pick Up Location: 9292550\nBridge Highway Name: 9296372\nBridge Highway Direction: 9335351\nRoad Ramp: 9352663\nBridge Highway Segment: 9296370\nLatitude: 168699\nLongitude: 168699\nLocation: 168699\nZip Codes: 201102\nCommunity Districts: 171525\nBorough Boundaries: 171525\nCity Council Districts: 171528\nPolice Precincts: 171526\nPolice Precinct: 171477\n"
     ]
    }
   ],
   "source": [
    "null_counts = data.select([count(when(col(c).isNull(),c)).alias(c) for c in data.columns]).collect()[0]\n",
    "\n",
    "null_counts_dict = null_counts.asDict()\n",
    "\n",
    "print(\"Null Counts in Each Column:\")\n",
    "for column, count in null_counts_dict.items():\n",
    "    print(f\"{column}: {count}\")"
   ]
  },
  {
   "cell_type": "markdown",
   "metadata": {
    "application/vnd.databricks.v1+cell": {
     "cellMetadata": {},
     "inputWidgets": {},
     "nuid": "37e5fe00-ec7e-45f9-a37c-4159644a738c",
     "showTitle": false,
     "title": ""
    }
   },
   "source": [
    "### Data Preprocessing"
   ]
  },
  {
   "cell_type": "markdown",
   "metadata": {
    "application/vnd.databricks.v1+cell": {
     "cellMetadata": {},
     "inputWidgets": {},
     "nuid": "b18666cb-f99b-4720-9ab0-a1775f55adc6",
     "showTitle": false,
     "title": ""
    }
   },
   "source": [
    "#### Fix Column Names"
   ]
  },
  {
   "cell_type": "code",
   "execution_count": 0,
   "metadata": {
    "application/vnd.databricks.v1+cell": {
     "cellMetadata": {
      "byteLimit": 2048000,
      "rowLimit": 10000
     },
     "inputWidgets": {},
     "nuid": "418f4130-dd7c-4e43-b58e-72bb127a2cbf",
     "showTitle": false,
     "title": ""
    }
   },
   "outputs": [
    {
     "output_type": "stream",
     "name": "stdout",
     "output_type": "stream",
     "text": [
      "['unique_key', 'created_date', 'closed_date', 'agency', 'agency_name', 'complaint_type', 'descriptor', 'location_type', 'incident_zip', 'incident_address', 'street_name', 'cross_street_1', 'cross_street_2', 'intersection_street_1', 'intersection_street_2', 'address_type', 'city', 'landmark', 'facility_type', 'status', 'due_date', 'resolution_description', 'resolution_action_updated_date', 'community_board', 'bbl', 'borough', 'x_coordinate_(state_plane)', 'y_coordinate_(state_plane)', 'open_data_channel_type', 'park_facility_name', 'park_borough', 'vehicle_type', 'taxi_company_borough', 'taxi_pick_up_location', 'bridge_highway_name', 'bridge_highway_direction', 'road_ramp', 'bridge_highway_segment', 'latitude', 'longitude', 'location', 'zip_codes', 'community_districts', 'borough_boundaries', 'city_council_districts', 'police_precincts', 'police_precinct']\n"
     ]
    }
   ],
   "source": [
    "data = data.toDF(*[col.lower().replace(' ', '_') for col in data.columns])\n",
    "print(data.columns)"
   ]
  },
  {
   "cell_type": "markdown",
   "metadata": {
    "application/vnd.databricks.v1+cell": {
     "cellMetadata": {},
     "inputWidgets": {},
     "nuid": "0c8b5e9a-c95c-4d0e-8661-9e66cceda5df",
     "showTitle": false,
     "title": ""
    }
   },
   "source": [
    "#### Keep Useful Columns"
   ]
  },
  {
   "cell_type": "code",
   "execution_count": 0,
   "metadata": {
    "application/vnd.databricks.v1+cell": {
     "cellMetadata": {
      "byteLimit": 2048000,
      "rowLimit": 10000
     },
     "inputWidgets": {},
     "nuid": "fa62d780-86e5-4b0a-959a-fa53b27f2c3f",
     "showTitle": false,
     "title": ""
    }
   },
   "outputs": [
    {
     "output_type": "stream",
     "name": "stdout",
     "output_type": "stream",
     "text": [
      "['created_date', 'closed_date', 'agency', 'complaint_type', 'location_type', 'incident_zip', 'address_type', 'city', 'status', 'community_board', 'bbl', 'borough', 'open_data_channel_type', 'latitude', 'longitude']\n"
     ]
    }
   ],
   "source": [
    "keeps = ['created_date', 'closed_date', 'agency', 'complaint_type', 'location_type', 'incident_zip', 'address_type', 'city', 'status', 'community_board', 'bbl', 'borough', 'open_data_channel_type', 'latitude', 'longitude']\n",
    "\n",
    "data = data.select(*keeps)\n",
    "print(data.columns)"
   ]
  },
  {
   "cell_type": "markdown",
   "metadata": {
    "application/vnd.databricks.v1+cell": {
     "cellMetadata": {},
     "inputWidgets": {},
     "nuid": "59013535-5c8f-4d4d-902b-300d41e64c5e",
     "showTitle": false,
     "title": ""
    }
   },
   "source": [
    "#### Keep Only Closed 311 Calls"
   ]
  },
  {
   "cell_type": "code",
   "execution_count": 0,
   "metadata": {
    "application/vnd.databricks.v1+cell": {
     "cellMetadata": {
      "byteLimit": 2048000,
      "rowLimit": 10000
     },
     "inputWidgets": {},
     "nuid": "332988f3-a0f0-45c8-8987-fadd5ffaabcd",
     "showTitle": false,
     "title": ""
    }
   },
   "outputs": [],
   "source": [
    "data = data.where(lower(col(\"status\")) == \"closed\").drop(\"status\")"
   ]
  },
  {
   "cell_type": "markdown",
   "metadata": {
    "application/vnd.databricks.v1+cell": {
     "cellMetadata": {},
     "inputWidgets": {},
     "nuid": "6adabf4d-18c2-44b5-b84b-19e1cf154365",
     "showTitle": false,
     "title": ""
    }
   },
   "source": [
    "#### Drop Null Rows"
   ]
  },
  {
   "cell_type": "code",
   "execution_count": 0,
   "metadata": {
    "application/vnd.databricks.v1+cell": {
     "cellMetadata": {
      "byteLimit": 2048000,
      "rowLimit": 10000
     },
     "inputWidgets": {},
     "nuid": "fd9435ee-4bc7-4698-900d-4fe9c0478291",
     "showTitle": false,
     "title": ""
    }
   },
   "outputs": [
    {
     "output_type": "stream",
     "name": "stdout",
     "output_type": "stream",
     "text": [
      "6213236\n"
     ]
    }
   ],
   "source": [
    "data = data.dropna()\n",
    "print(data.count())"
   ]
  },
  {
   "cell_type": "markdown",
   "metadata": {
    "application/vnd.databricks.v1+cell": {
     "cellMetadata": {},
     "inputWidgets": {},
     "nuid": "760c10dd-bca5-41da-97ab-4d6a4589cd8f",
     "showTitle": false,
     "title": ""
    }
   },
   "source": [
    "#### Fix Data Types (DateTime)"
   ]
  },
  {
   "cell_type": "code",
   "execution_count": 0,
   "metadata": {
    "application/vnd.databricks.v1+cell": {
     "cellMetadata": {
      "byteLimit": 2048000,
      "rowLimit": 10000
     },
     "inputWidgets": {},
     "nuid": "eddd06fc-7fbd-40c6-a0b7-38e884597bcb",
     "showTitle": false,
     "title": ""
    }
   },
   "outputs": [
    {
     "output_type": "stream",
     "name": "stdout",
     "output_type": "stream",
     "text": [
      "root\n |-- created_date: timestamp (nullable = true)\n |-- closed_date: timestamp (nullable = true)\n |-- agency: string (nullable = true)\n |-- complaint_type: string (nullable = true)\n |-- location_type: string (nullable = true)\n |-- incident_zip: string (nullable = true)\n |-- address_type: string (nullable = true)\n |-- city: string (nullable = true)\n |-- status: string (nullable = true)\n |-- community_board: string (nullable = true)\n |-- bbl: long (nullable = true)\n |-- borough: string (nullable = true)\n |-- open_data_channel_type: string (nullable = true)\n |-- latitude: double (nullable = true)\n |-- longitude: double (nullable = true)\n\n"
     ]
    }
   ],
   "source": [
    "dateFormat = \"MM/dd/yyyy hh:mm:ss a\"\n",
    "\n",
    "data = (data.withColumn(\"created_date\", to_timestamp(col(\"created_date\"), dateFormat))\n",
    "            .withColumn(\"closed_date\", to_timestamp(col(\"closed_date\"), dateFormat)))\n",
    "\n",
    "data.printSchema()"
   ]
  },
  {
   "cell_type": "markdown",
   "metadata": {
    "application/vnd.databricks.v1+cell": {
     "cellMetadata": {},
     "inputWidgets": {},
     "nuid": "403cd316-c7d4-49fd-9010-14b99ff4e853",
     "showTitle": false,
     "title": ""
    }
   },
   "source": [
    "#### Remove Created Date > Closed Date"
   ]
  },
  {
   "cell_type": "code",
   "execution_count": 0,
   "metadata": {
    "application/vnd.databricks.v1+cell": {
     "cellMetadata": {
      "byteLimit": 2048000,
      "rowLimit": 10000
     },
     "inputWidgets": {},
     "nuid": "a8e42e6e-fa9c-45dc-aeea-04f35893900b",
     "showTitle": false,
     "title": ""
    }
   },
   "outputs": [],
   "source": [
    "data = data.where(col(\"created_date\") < col(\"closed_date\"))"
   ]
  },
  {
   "cell_type": "markdown",
   "metadata": {
    "application/vnd.databricks.v1+cell": {
     "cellMetadata": {},
     "inputWidgets": {},
     "nuid": "2cc3a887-64a2-4d4d-81e6-395882bd0c6d",
     "showTitle": false,
     "title": ""
    }
   },
   "source": [
    "### Feature Engineering"
   ]
  },
  {
   "cell_type": "markdown",
   "metadata": {
    "application/vnd.databricks.v1+cell": {
     "cellMetadata": {},
     "inputWidgets": {},
     "nuid": "ddf0a0cb-a11a-42a1-89e8-f073548503e6",
     "showTitle": false,
     "title": ""
    }
   },
   "source": [
    "#### Add Resolution Time (Minutes)"
   ]
  },
  {
   "cell_type": "code",
   "execution_count": 0,
   "metadata": {
    "application/vnd.databricks.v1+cell": {
     "cellMetadata": {
      "byteLimit": 2048000,
      "rowLimit": 10000
     },
     "inputWidgets": {},
     "nuid": "a22653f0-8850-4311-973d-7d16d88501ab",
     "showTitle": false,
     "title": ""
    }
   },
   "outputs": [
    {
     "output_type": "stream",
     "name": "stdout",
     "output_type": "stream",
     "text": [
      "+------------------+\n|   resolution_time|\n+------------------+\n|2.4166666666666665|\n|              4.45|\n|              3.75|\n|              5.95|\n|              23.0|\n|25.516666666666666|\n|1.7666666666666666|\n|10.483333333333333|\n|15.733333333333333|\n|              22.7|\n|1.9833333333333334|\n|18.416666666666668|\n|21.916666666666668|\n|26.933333333333334|\n| 6.566666666666666|\n|              22.2|\n|33.483333333333334|\n|             27.85|\n|1.0666666666666667|\n|17.133333333333333|\n+------------------+\nonly showing top 20 rows\n\n"
     ]
    }
   ],
   "source": [
    "data = data.withColumn(\"resolution_time\", (unix_timestamp(\"closed_date\") - unix_timestamp(\"created_date\")) / 60)\n",
    "data = data.drop(\"created_date\", \"closed_date\")\n",
    "data.select(\"resolution_time\").show()"
   ]
  },
  {
   "cell_type": "code",
   "execution_count": 0,
   "metadata": {
    "application/vnd.databricks.v1+cell": {
     "cellMetadata": {
      "byteLimit": 2048000,
      "rowLimit": 10000
     },
     "inputWidgets": {},
     "nuid": "a4ee5546-4ff9-4469-9ff4-ce126101ce53",
     "showTitle": false,
     "title": ""
    }
   },
   "outputs": [
    {
     "output_type": "stream",
     "name": "stdout",
     "output_type": "stream",
     "text": [
      "root\n |-- agency: string (nullable = true)\n |-- complaint_type: string (nullable = true)\n |-- location_type: string (nullable = true)\n |-- incident_zip: string (nullable = true)\n |-- address_type: string (nullable = true)\n |-- city: string (nullable = true)\n |-- status: string (nullable = true)\n |-- community_board: string (nullable = true)\n |-- bbl: long (nullable = true)\n |-- borough: string (nullable = true)\n |-- open_data_channel_type: string (nullable = true)\n |-- latitude: double (nullable = true)\n |-- longitude: double (nullable = true)\n |-- resolution_time: double (nullable = true)\n\n"
     ]
    }
   ],
   "source": [
    "data.printSchema()"
   ]
  },
  {
   "cell_type": "markdown",
   "metadata": {
    "application/vnd.databricks.v1+cell": {
     "cellMetadata": {},
     "inputWidgets": {},
     "nuid": "f17abc4a-0c90-4cb9-9b82-4aa024b417cb",
     "showTitle": false,
     "title": ""
    }
   },
   "source": [
    "#### Label Categorical Data "
   ]
  },
  {
   "cell_type": "markdown",
   "metadata": {
    "application/vnd.databricks.v1+cell": {
     "cellMetadata": {},
     "inputWidgets": {},
     "nuid": "76227e55-e46f-47fe-b144-2e803093e942",
     "showTitle": false,
     "title": ""
    }
   },
   "source": [
    "##### Check Number of Categories"
   ]
  },
  {
   "cell_type": "code",
   "execution_count": 0,
   "metadata": {
    "application/vnd.databricks.v1+cell": {
     "cellMetadata": {
      "byteLimit": 2048000,
      "rowLimit": 10000
     },
     "inputWidgets": {},
     "nuid": "5b618bd8-77fd-419c-a589-fa499c9d29e0",
     "showTitle": false,
     "title": ""
    }
   },
   "outputs": [
    {
     "output_type": "stream",
     "name": "stdout",
     "output_type": "stream",
     "text": [
      "+---------------------+-----------------------------+----------------------------+---------------------------+--------------------------+---------------------------+-------------------+------------------------------+----------------------+-------------------------------------+---------------------------------+---------------------------+\n|agency_distinct_count|complaint_type_distinct_count|location_type_distinct_count|incident_zip_distinct_count|street_name_distinct_count|address_type_distinct_count|city_distinct_count|community_board_distinct_count|borough_distinct_count|open_data_channel_type_distinct_count|park_facility_name_distinct_count|park_borough_distinct_count|\n+---------------------+-----------------------------+----------------------------+---------------------------+--------------------------+---------------------------+-------------------+------------------------------+----------------------+-------------------------------------+---------------------------------+---------------------------+\n|                   17|                          171|                         178|                        235|                     11519|                          5|                 91|                            77|                     6|                                    5|                             1992|                          6|\n+---------------------+-----------------------------+----------------------------+---------------------------+--------------------------+---------------------------+-------------------+------------------------------+----------------------+-------------------------------------+---------------------------------+---------------------------+\n\n"
     ]
    }
   ],
   "source": [
    "categories = ['agency', 'complaint_type', 'location_type', 'incident_zip', 'address_type', 'city', 'community_board', 'borough', 'open_data_channel_type']\n",
    "\n",
    "distinct_counts = [countDistinct(col).alias(col + \"_distinct_count\") for col in categories]\n",
    "distinct_count_df = data.select(distinct_counts)\n",
    "distinct_count_df.show()"
   ]
  },
  {
   "cell_type": "markdown",
   "metadata": {
    "application/vnd.databricks.v1+cell": {
     "cellMetadata": {},
     "inputWidgets": {},
     "nuid": "e140fb8e-f5d6-4169-b098-33f1f376ef78",
     "showTitle": false,
     "title": ""
    }
   },
   "source": [
    "##### Convert Categorical Features\n",
    "\n",
    "Encode categories as labels since one hot encoding would create too many features. We can also order some categorical features based on some rules."
   ]
  },
  {
   "cell_type": "code",
   "execution_count": 0,
   "metadata": {
    "application/vnd.databricks.v1+cell": {
     "cellMetadata": {
      "byteLimit": 2048000,
      "rowLimit": 10000
     },
     "inputWidgets": {},
     "nuid": "d4c638ba-27aa-4b16-bbd4-642a9a4cb58b",
     "showTitle": false,
     "title": ""
    }
   },
   "outputs": [
    {
     "output_type": "display_data",
     "data": {
      "text/html": [
       "<style scoped>\n",
       "  .ansiout {\n",
       "    display: block;\n",
       "    unicode-bidi: embed;\n",
       "    white-space: pre-wrap;\n",
       "    word-wrap: break-word;\n",
       "    word-break: break-all;\n",
       "    font-family: \"Menlo\", \"Monaco\", \"Consolas\", \"Ubuntu Mono\", \"Source Code Pro\", monospace;\n",
       "    font-size: 13px;\n",
       "    color: #555;\n",
       "    margin-left: 4px;\n",
       "    line-height: 19px;\n",
       "  }\n",
       "</style>"
      ]
     },
     "metadata": {
      "application/vnd.databricks.v1+output": {
       "arguments": {},
       "data": "",
       "errorSummary": "Cancelled",
       "errorTraceType": "html",
       "metadata": {},
       "type": "ipynbError"
      }
     },
     "output_type": "display_data"
    }
   ],
   "source": [
    "for column in categories:\n",
    "    StringIndexer(inputCol=column, outputCol=column+\"_label\").fit(data).transform(data)\n",
    "\n",
    "data = data.drop(categories)\n",
    "data.show()"
   ]
  },
  {
   "cell_type": "markdown",
   "metadata": {
    "application/vnd.databricks.v1+cell": {
     "cellMetadata": {},
     "inputWidgets": {},
     "nuid": "eaf4c7d8-2749-49a7-b91d-eb2c44d40ee0",
     "showTitle": false,
     "title": ""
    }
   },
   "source": [
    "### EDA"
   ]
  },
  {
   "cell_type": "code",
   "execution_count": 0,
   "metadata": {
    "application/vnd.databricks.v1+cell": {
     "cellMetadata": {
      "byteLimit": 2048000,
      "rowLimit": 10000
     },
     "inputWidgets": {},
     "nuid": "44fd27c5-69fe-462c-a1bc-09c17e834299",
     "showTitle": false,
     "title": ""
    }
   },
   "outputs": [],
   "source": [
    "import matplotlib.pyplot as plt\n"
   ]
  },
  {
   "cell_type": "markdown",
   "metadata": {
    "application/vnd.databricks.v1+cell": {
     "cellMetadata": {},
     "inputWidgets": {},
     "nuid": "80ff9d47-5ab1-4e1f-a6b0-2bbbf535bc72",
     "showTitle": false,
     "title": ""
    }
   },
   "source": [
    "#### Agency Distribution"
   ]
  },
  {
   "cell_type": "code",
   "execution_count": 0,
   "metadata": {
    "application/vnd.databricks.v1+cell": {
     "cellMetadata": {
      "byteLimit": 2048000,
      "rowLimit": 10000
     },
     "inputWidgets": {},
     "nuid": "16f6da41-9bc7-46d4-a843-d339e2a037bc",
     "showTitle": false,
     "title": ""
    }
   },
   "outputs": [
    {
     "output_type": "display_data",
     "data": {
      "image/png": "[encoded data removed]",
      "text/plain": [
       "<Figure size 640x480 with 1 Axes>"
      ]
     },
     "metadata": {},
     "output_type": "display_data"
    }
   ],
   "source": [
    "agencies = data.groupBy(\"agency\").count().toPandas()\n",
    "\n",
    "agencies.plot(kind='bar', x='agency', y='count')\n",
    "plt.xlabel('Agency')\n",
    "plt.ylabel('Count')\n",
    "plt.title('Count by Agency')\n",
    "plt.xticks(rotation=45)\n",
    "plt.show()"
   ]
  },
  {
   "cell_type": "markdown",
   "metadata": {
    "application/vnd.databricks.v1+cell": {
     "cellMetadata": {},
     "inputWidgets": {},
     "nuid": "648ded29-d106-4349-85f0-c756f91718b8",
     "showTitle": false,
     "title": ""
    }
   },
   "source": [
    "### Main Data Preprocessing"
   ]
  },
  {
   "cell_type": "code",
   "execution_count": 0,
   "metadata": {
    "application/vnd.databricks.v1+cell": {
     "cellMetadata": {
      "byteLimit": 2048000,
      "rowLimit": 10000
     },
     "inputWidgets": {},
     "nuid": "d05d09d7-b8e8-4dea-ae8b-00a8e8197eb8",
     "showTitle": false,
     "title": ""
    }
   },
   "outputs": [],
   "source": [
    "from pyspark.sql import SparkSession\n",
    "from pyspark.sql.functions import col, lower, replace, count, when, isnan, isnull, to_timestamp, unix_timestamp, countDistinct\n",
    "from pyspark.sql.types import StructType, StructField, TimestampType\n",
    "from pyspark.ml.feature import StringIndexer\n",
    "\n",
    "spark = SparkSession.builder.appName(\"NYC311Calls\").getOrCreate()\n",
    "\n",
    "spark.conf.set(\"spark.sql.sources.commitProtocolClass\", \"org.apache.spark.sql.execution.datasources.SQLHadoopMapReduceCommitProtocol\")\n",
    "spark.conf.set(\"parquet.enable.summary-metadata\", \"false\")\n",
    "spark.conf.set(\"mapreduce.fileoutputcommitter.marksuccessfuljobs\", \"false\")"
   ]
  },
  {
   "cell_type": "code",
   "execution_count": 0,
   "metadata": {
    "application/vnd.databricks.v1+cell": {
     "cellMetadata": {
      "byteLimit": 2048000,
      "rowLimit": 10000
     },
     "inputWidgets": {},
     "nuid": "a7226196-19e2-4f2c-883f-a57ff5a99ad6",
     "showTitle": false,
     "title": ""
    }
   },
   "outputs": [],
   "source": [
    "uri = \"enter your path\"\n",
    "\n",
    "data = spark.read.csv(\n",
    "    uri,\n",
    "    header=True,\n",
    "    inferSchema=True\n",
    ")"
   ]
  },
  {
   "cell_type": "markdown",
   "metadata": {
    "application/vnd.databricks.v1+cell": {
     "cellMetadata": {},
     "inputWidgets": {},
     "nuid": "8a855fe5-9584-4916-97c6-1c28ca8d477b",
     "showTitle": false,
     "title": ""
    }
   },
   "source": [
    "#### All Data Transformations"
   ]
  },
  {
   "cell_type": "code",
   "execution_count": 0,
   "metadata": {
    "application/vnd.databricks.v1+cell": {
     "cellMetadata": {
      "byteLimit": 2048000,
      "rowLimit": 10000
     },
     "inputWidgets": {},
     "nuid": "cf54d373-6b41-4bf4-8ad5-66ac1fad7891",
     "showTitle": false,
     "title": ""
    }
   },
   "outputs": [
    {
     "output_type": "stream",
     "name": "stdout",
     "output_type": "stream",
     "text": [
      "+----------+------------------+------------------+------------------+------------+--------------------+-------------------+------------------+------------------+----------+---------------------+-------------+----------------------------+\n|       bbl|          latitude|         longitude|   resolution_time|agency_label|complaint_type_label|location_type_label|incident_zip_label|address_type_label|city_label|community_board_label|borough_label|open_data_channel_type_label|\n+----------+------------------+------------------+------------------+------------+--------------------+-------------------+------------------+------------------+----------+---------------------+-------------+----------------------------+\n|1008960023| 40.73251803248665|-73.98483468502799|2.4166666666666665|         0.0|                10.0|                6.0|              59.0|               0.0|       2.0|                 53.0|          3.0|                         0.0|\n|3050260344| 40.65698230332589|-73.96222514965272|              4.45|         0.0|                 1.0|                2.0|              17.0|               0.0|       0.0|                 28.0|          0.0|                         1.0|\n|4005700053| 40.76625579583187| -73.9262035584613|              3.75|         6.0|                23.0|                5.0|             101.0|               0.0|       5.0|                 11.0|          2.0|                         2.0|\n|3050260344| 40.65698230332589|-73.96222514965272|              5.95|         0.0|                 1.0|                2.0|              17.0|               0.0|       0.0|                 28.0|          0.0|                         1.0|\n|1013000001| 40.75450745921105|-73.97595054706579|              23.0|         0.0|                20.0|                0.0|             175.0|               0.0|       2.0|                 47.0|          3.0|                         2.0|\n|3003940001|40.682868001833405| -73.9848135266054|25.516666666666666|         0.0|                 0.0|                0.0|              64.0|               0.0|       0.0|                 32.0|          0.0|                         2.0|\n|3016360024|40.688334599490894|-73.93014442097454|1.7666666666666666|         0.0|                 1.0|                2.0|              11.0|               0.0|       0.0|                  9.0|          0.0|                         0.0|\n|1007000027|40.751218984880204|-74.00278632161532|10.483333333333333|         0.0|                 1.0|                2.0|             110.0|               0.0|       2.0|                 38.0|          3.0|                         0.0|\n|1009330025|40.740295354643706|-73.97695165980414|15.733333333333333|         0.0|                 1.0|                2.0|              91.0|               0.0|       2.0|                 53.0|          3.0|                         0.0|\n|4051830046|  40.7578403661312|-73.82106920352469|              22.7|         0.0|                 1.0|                2.0|              74.0|               0.0|       6.0|                 15.0|          2.0|                         1.0|\n|2032367501| 40.86240645467484|-73.91109714827905|1.9833333333333334|         0.0|                 1.0|                2.0|               3.0|               0.0|       1.0|                  3.0|          1.0|                         0.0|\n|3014030040| 40.66770152165978|-73.92915310753094|18.416666666666668|         0.0|                 1.0|                2.0|              18.0|               0.0|       0.0|                 28.0|          0.0|                         0.0|\n|1001620022| 40.71485101153701|-73.99820719398137|21.916666666666668|         0.0|                13.0|                0.0|             115.0|               0.0|       2.0|                 16.0|          3.0|                         0.0|\n|3048280005| 40.65571782207361|-73.95008739635875|26.933333333333334|         0.0|                 1.0|                2.0|               1.0|               0.0|       0.0|                 28.0|          0.0|                         0.0|\n|1019170002| 40.81353880775362|-73.94498002946125| 6.566666666666666|         0.0|                10.0|                6.0|              29.0|               0.0|       2.0|                  5.0|          3.0|                         0.0|\n|1010697501|40.758860322629424|-73.99604383571884|              22.2|         0.0|                 6.0|                0.0|             149.0|               0.0|       2.0|                 38.0|          3.0|                         2.0|\n|1020530024| 40.82476925652568|-73.94304128678569|33.483333333333334|         0.0|                 1.0|                2.0|              13.0|               0.0|       2.0|                 22.0|          3.0|                         0.0|\n|1003440170| 40.71895066827974|-73.98460689360681|             27.85|         0.0|                 1.0|                2.0|              37.0|               0.0|       2.0|                 16.0|          3.0|                         0.0|\n|1000297504| 40.70440949457478|-74.01021054100694|1.0666666666666667|         0.0|                 1.0|                2.0|             168.0|               0.0|       2.0|                 58.0|          3.0|                         0.0|\n|4077550003|  40.7401581594642|-73.75515442611734|17.133333333333333|         0.0|                 0.0|                0.0|             145.0|               0.0|      39.0|                 55.0|          2.0|                         2.0|\n+----------+------------------+------------------+------------------+------------+--------------------+-------------------+------------------+------------------+----------+---------------------+-------------+----------------------------+\nonly showing top 20 rows\n\n"
     ]
    }
   ],
   "source": [
    "keeps = ['created_date', 'closed_date', 'agency', 'complaint_type', 'location_type', 'incident_zip', 'address_type', 'city', 'status', 'community_board', 'bbl', 'borough', 'open_data_channel_type', 'latitude', 'longitude']\n",
    "\n",
    "dateFormat = \"MM/dd/yyyy hh:mm:ss a\"\n",
    "\n",
    "data = (data.toDF(*[col.lower().replace(' ', '_') for col in data.columns])\n",
    "        .select(*keeps)\n",
    "        .where(lower(col(\"status\")) == \"closed\")\n",
    "        .drop(\"status\")\n",
    "        .dropna()\n",
    "        .withColumn(\"created_date\", to_timestamp(col(\"created_date\"), dateFormat))\n",
    "        .withColumn(\"closed_date\", to_timestamp(col(\"closed_date\"), dateFormat))\n",
    "        .where(col(\"created_date\") < col(\"closed_date\"))\n",
    "        .withColumn(\"resolution_time\", (unix_timestamp(\"closed_date\") - unix_timestamp(\"created_date\")) / 60)\n",
    "        .drop(\"created_date\", \"closed_date\"))\n",
    "\n",
    "categories = ['agency', 'complaint_type', 'location_type', 'incident_zip', 'address_type', 'city', 'community_board', 'borough', 'open_data_channel_type']\n",
    "\n",
    "for column in categories:\n",
    "    data = StringIndexer(inputCol=column, outputCol=column+\"_label\").fit(data).transform(data)\n",
    "\n",
    "data = data.drop(*categories)\n",
    "data.show()"
   ]
  },
  {
   "cell_type": "code",
   "execution_count": 0,
   "metadata": {
    "application/vnd.databricks.v1+cell": {
     "cellMetadata": {
      "byteLimit": 2048000,
      "rowLimit": 10000
     },
     "inputWidgets": {},
     "nuid": "0eb65495-dc78-4fa0-8a03-4306dd9a047c",
     "showTitle": false,
     "title": ""
    }
   },
   "outputs": [
    {
     "output_type": "stream",
     "name": "stdout",
     "output_type": "stream",
     "text": [
      "root\n |-- bbl: long (nullable = true)\n |-- latitude: double (nullable = true)\n |-- longitude: double (nullable = true)\n |-- resolution_time: double (nullable = true)\n |-- agency_label: double (nullable = false)\n |-- complaint_type_label: double (nullable = false)\n |-- location_type_label: double (nullable = false)\n |-- incident_zip_label: double (nullable = false)\n |-- address_type_label: double (nullable = false)\n |-- city_label: double (nullable = false)\n |-- community_board_label: double (nullable = false)\n |-- borough_label: double (nullable = false)\n |-- open_data_channel_type_label: double (nullable = false)\n\n"
     ]
    }
   ],
   "source": [
    "data.printSchema()"
   ]
  },
  {
   "cell_type": "markdown",
   "metadata": {
    "application/vnd.databricks.v1+cell": {
     "cellMetadata": {},
     "inputWidgets": {},
     "nuid": "943b8353-02f7-4b70-8d23-a1aa43794fe8",
     "showTitle": false,
     "title": ""
    }
   },
   "source": [
    "#### Save Preprocessed Data for ML use"
   ]
  },
  {
   "cell_type": "code",
   "execution_count": 0,
   "metadata": {
    "application/vnd.databricks.v1+cell": {
     "cellMetadata": {
      "byteLimit": 2048000,
      "rowLimit": 10000
     },
     "inputWidgets": {},
     "nuid": "b8048fb0-1b52-4080-b3bd-e18126c78b92",
     "showTitle": false,
     "title": ""
    }
   },
   "outputs": [],
   "source": [
    "save_uri = \"enter your path\"\n",
    "data.coalesce(1).write.csv(save_uri, header=True)"
   ]
  }
 ],
 "metadata": {
  "application/vnd.databricks.v1+notebook": {
   "dashboards": [],
   "language": "python",
   "notebookMetadata": {
    "pythonIndentUnit": 4
   },
   "notebookName": "data_preprocessing",
   "widgets": {}
  }
 },
 "nbformat": 4,
 "nbformat_minor": 0
}
