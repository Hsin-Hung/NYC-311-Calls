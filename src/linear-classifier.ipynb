{
 "cells": [
  {
   "cell_type": "markdown",
   "metadata": {
    "application/vnd.databricks.v1+cell": {
     "cellMetadata": {
      "byteLimit": 2048000,
      "rowLimit": 10000
     },
     "inputWidgets": {},
     "nuid": "53e40ac1-a3b3-460f-9c7f-26e70dbb31a4",
     "showTitle": false,
     "title": ""
    }
   },
   "source": [
    "# Main Processing"
   ]
  },
  {
   "cell_type": "markdown",
   "metadata": {
    "application/vnd.databricks.v1+cell": {
     "cellMetadata": {
      "byteLimit": 2048000,
      "rowLimit": 10000
     },
     "inputWidgets": {},
     "nuid": "d50c4535-47c3-4743-9f2a-8c052826422b",
     "showTitle": false,
     "title": ""
    }
   },
   "source": [
    "### Initial Imports"
   ]
  },
  {
   "cell_type": "code",
   "execution_count": 0,
   "metadata": {
    "application/vnd.databricks.v1+cell": {
     "cellMetadata": {
      "byteLimit": 2048000,
      "rowLimit": 10000
     },
     "inputWidgets": {},
     "nuid": "466f01c3-e415-446c-833f-a13e5340f447",
     "showTitle": false,
     "title": ""
    }
   },
   "outputs": [],
   "source": [
    "from pyspark.sql import SparkSession\n",
    "from pyspark.sql.utils import AnalysisException\n",
    "import pyspark.sql.functions as F\n",
    "import pyspark.sql.types as T\n",
    "\n",
    "spark = SparkSession.builder.getOrCreate()"
   ]
  },
  {
   "cell_type": "markdown",
   "metadata": {
    "application/vnd.databricks.v1+cell": {
     "cellMetadata": {
      "byteLimit": 2048000,
      "rowLimit": 10000
     },
     "inputWidgets": {},
     "nuid": "3df52eb3-fc25-42c2-835e-cc569792533c",
     "showTitle": false,
     "title": ""
    }
   },
   "source": [
    "### Reading In Data"
   ]
  },
  {
   "cell_type": "code",
   "execution_count": 0,
   "metadata": {
    "application/vnd.databricks.v1+cell": {
     "cellMetadata": {
      "byteLimit": 2048000,
      "rowLimit": 10000
     },
     "inputWidgets": {},
     "nuid": "f4e7b166-7135-4a02-ad85-9c6f88cc89b1",
     "showTitle": false,
     "title": ""
    }
   },
   "outputs": [],
   "source": [
    "import os\n",
    "import time\n",
    "\n",
    "# CONSTANTS\n",
    "PATH = 'dbfs:/public/cleaned_data.csv'\n",
    "\n",
    "# Import data\n",
    "df = spark.read.csv(\n",
    "                path=os.path.join(PATH, \"part-00000-20c3d0ba-36a1-4da8-bc07-2827a614295e-c000.csv\"),\n",
    "                sep=\",\",\n",
    "                inferSchema=True,\n",
    "                header=True\n",
    ")"
   ]
  },
  {
   "cell_type": "code",
   "execution_count": 0,
   "metadata": {
    "application/vnd.databricks.v1+cell": {
     "cellMetadata": {
      "byteLimit": 2048000,
      "rowLimit": 10000
     },
     "inputWidgets": {},
     "nuid": "eba45dbb-1791-4874-9498-3e8361d072ee",
     "showTitle": false,
     "title": ""
    }
   },
   "outputs": [
    {
     "output_type": "stream",
     "name": "stdout",
     "output_type": "stream",
     "text": [
      "8556144\n"
     ]
    }
   ],
   "source": [
    "# Get data count\n",
    "print(df.count())"
   ]
  },
  {
   "cell_type": "code",
   "execution_count": 0,
   "metadata": {
    "application/vnd.databricks.v1+cell": {
     "cellMetadata": {
      "byteLimit": 2048000,
      "rowLimit": 10000
     },
     "inputWidgets": {},
     "nuid": "287a6daf-0952-4618-beeb-cea26b311013",
     "showTitle": false,
     "title": ""
    }
   },
   "outputs": [
    {
     "output_type": "stream",
     "name": "stdout",
     "output_type": "stream",
     "text": [
      "root\n |-- latitude: double (nullable = true)\n |-- longitude: double (nullable = true)\n |-- resolution_time: double (nullable = true)\n |-- agency_label: double (nullable = true)\n |-- complaint_type_label: double (nullable = true)\n\n"
     ]
    }
   ],
   "source": [
    "# Check Schema\n",
    "df.printSchema()"
   ]
  },
  {
   "cell_type": "markdown",
   "metadata": {
    "application/vnd.databricks.v1+cell": {
     "cellMetadata": {
      "byteLimit": 2048000,
      "rowLimit": 10000
     },
     "inputWidgets": {},
     "nuid": "16df5901-ff30-4e44-aef8-e4c65ad48db9",
     "showTitle": false,
     "title": ""
    }
   },
   "source": [
    "### Additional Preprocessing"
   ]
  },
  {
   "cell_type": "code",
   "execution_count": 0,
   "metadata": {
    "application/vnd.databricks.v1+cell": {
     "cellMetadata": {
      "byteLimit": 2048000,
      "rowLimit": 10000
     },
     "inputWidgets": {},
     "nuid": "3bcba06c-6f31-4118-8522-f01c84c2770e",
     "showTitle": false,
     "title": ""
    }
   },
   "outputs": [
    {
     "output_type": "stream",
     "name": "stdout",
     "output_type": "stream",
     "text": [
      "40.498543\n-74.254952\n0.4149140000000031\n0.5545759999999973\n"
     ]
    }
   ],
   "source": [
    "from pyspark.sql.functions import col\n",
    "\n",
    "# Removing outlier of latitude ~ 0\n",
    "df = df.where(F.col('latitude') > 1)\n",
    "\n",
    "#Scaling latitude and longitude by distance\n",
    "lat_info = df.describe(\"latitude\")\n",
    "long_info = df.describe(\"longitude\")\n",
    "\n",
    "lat_min = lat_info.where(col(\"summary\") == 'min').head()['latitude']\n",
    "print(lat_min)\n",
    "long_min = long_info.where(col(\"summary\") == 'min').head()['longitude']\n",
    "print(long_min)\n",
    "df = (df\n",
    "        .withColumn(\"latitude\", (col(\"latitude\") - lat_min))\n",
    "        .withColumn(\"longitude\", (col(\"longitude\") - long_min))\n",
    "        )\n",
    " \n",
    "lat_info = df.describe(\"latitude\")\n",
    "long_info = df.describe(\"longitude\")\n",
    "\n",
    "lat_max = lat_info.where(col(\"summary\") == 'max').head()['latitude']\n",
    "long_max = long_info.where(col(\"summary\") == 'max').head()['longitude']\n",
    "\n",
    "print(lat_max)\n",
    "print(long_max)\n",
    "df =  (df\n",
    "        .withColumn(\"latitude\", (col(\"latitude\") / lat_max))\n",
    "        .withColumn(\"longitude\", (col(\"longitude\") / long_max)))"
   ]
  },
  {
   "cell_type": "code",
   "execution_count": 0,
   "metadata": {
    "application/vnd.databricks.v1+cell": {
     "cellMetadata": {
      "byteLimit": 2048000,
      "rowLimit": 10000
     },
     "inputWidgets": {},
     "nuid": "05d57472-b567-4f93-8ba0-9f4aa1f8ffbe",
     "showTitle": false,
     "title": ""
    }
   },
   "outputs": [
    {
     "output_type": "stream",
     "name": "stdout",
     "output_type": "stream",
     "text": [
      "+-------------------+-------------------+---------------+------------+--------------------+\n|           latitude|          longitude|resolution_time|agency_label|complaint_type_label|\n+-------------------+-------------------+---------------+------------+--------------------+\n| 0.5639120396033857| 0.4870694007674338|           0.48|         0.0|                 8.0|\n| 0.3818598552953145| 0.5278392862294812|            0.7|         0.0|                 1.0|\n| 0.6452252755992772| 0.5927916101670575|            0.6|         7.0|                23.0|\n| 0.3818598552953145| 0.5278392862294812|           0.78|         0.0|                 1.0|\n|0.47526957393581265|0.46871123164362943|           0.95|         0.0|                 0.0|\n| 0.6069402333977677|0.47584460921496735|           0.48|         0.0|                19.0|\n| 0.6169085641843776| 0.5030888462537315|           1.36|         0.0|                19.0|\n| 0.4442486876798561| 0.4871072675341237|           1.41|         0.0|                 0.0|\n|0.45742491215047637| 0.5856870834655773|            0.3|         0.0|                 1.0|\n| 0.3764153535431389| 0.5318405412423137|           1.04|         0.0|                 3.0|\n|   0.60898403042558|0.45470052797092514|           1.04|         0.0|                 1.0|\n| 0.5826556828644092| 0.5012838637085038|            1.2|         0.0|                 1.0|\n| 0.6249415541533949| 0.7823688727965343|           1.36|         0.0|                 1.0|\n| 0.8769600447321597| 0.6200322408470734|            0.3|         0.0|                 1.0|\n|0.48610073412803073| 0.6002820172528308|           1.51|         0.0|                 1.0|\n|0.40769653470357525| 0.5874740342171408|           1.28|         0.0|                 1.0|\n| 0.5213321314778567| 0.4629572862872006|           1.34|         0.0|                 7.0|\n| 0.3788134408576262| 0.5497262773722774|           1.43|         0.0|                 1.0|\n| 0.7591838308661515| 0.5589351143937051|           0.85|         0.0|                 8.0|\n| 0.6273998949179797| 0.4668575632555439|           1.36|         0.0|                 3.0|\n+-------------------+-------------------+---------------+------------+--------------------+\nonly showing top 20 rows\n\n"
     ]
    }
   ],
   "source": [
    "df.show()"
   ]
  },
  {
   "cell_type": "code",
   "execution_count": 0,
   "metadata": {
    "application/vnd.databricks.v1+cell": {
     "cellMetadata": {
      "byteLimit": 2048000,
      "rowLimit": 10000
     },
     "inputWidgets": {},
     "nuid": "ba832484-2b9e-49e5-847e-5f96195b862a",
     "showTitle": false,
     "title": ""
    }
   },
   "outputs": [],
   "source": [
    "# Make a subsample to prevent having to reload\n",
    "# data = df.sample(False, 0.8  )\n",
    "data = df\n",
    "START_TIME = time.time()"
   ]
  },
  {
   "cell_type": "markdown",
   "metadata": {
    "application/vnd.databricks.v1+cell": {
     "cellMetadata": {
      "byteLimit": 2048000,
      "rowLimit": 10000
     },
     "inputWidgets": {},
     "nuid": "b7d77cf5-8c65-45d0-b362-f1f1c5aabaf5",
     "showTitle": false,
     "title": ""
    }
   },
   "source": [
    "### Creating Model Architecture"
   ]
  },
  {
   "cell_type": "code",
   "execution_count": 0,
   "metadata": {
    "application/vnd.databricks.v1+cell": {
     "cellMetadata": {
      "byteLimit": 2048000,
      "rowLimit": 10000
     },
     "inputWidgets": {},
     "nuid": "92eef8c8-21a5-4018-9a0d-ffa6d204d4d9",
     "showTitle": false,
     "title": ""
    }
   },
   "outputs": [],
   "source": [
    "import time\n",
    "from pyspark.ml import Pipeline\n",
    "from pyspark.ml.regression import LinearRegression\n",
    "from pyspark.ml.feature import OneHotEncoder, VectorAssembler\n",
    "\n",
    "# Hot Encode Categorical with OHE\n",
    "categories = ['agency', 'complaint_type']\n",
    "onehot_input_cols = [c + '_label' for c in categories]\n",
    "onehot_output_cols = [c + '_oh' for c in categories]\n",
    "\n",
    "encoder = OneHotEncoder(\n",
    "    inputCols = onehot_input_cols,\n",
    "    outputCols= onehot_output_cols\n",
    ")\n",
    "\n",
    "# model = encoder.fit(data)\n",
    "# encoded = model.transform(data)\n",
    "\n",
    "# Create Vector Assembler\n",
    "feature_names = ['latitude', 'longitude'] + onehot_output_cols\n",
    "assembler = VectorAssembler(inputCols=feature_names, outputCol='features')\n",
    "\n",
    "# Split Train & Test\n",
    "train, test = data.randomSplit(weights=[0.8, 0.2], seed=42)\n",
    "\n",
    "# Linear Regression Model\n",
    "label_name = \"resolution_time\"\n",
    "\n",
    "lr = LinearRegression(\n",
    "    featuresCol=\"features\",\n",
    "    labelCol=label_name\n",
    ")\n",
    "\n",
    "# Pipeline\n",
    "lr_pipeline = Pipeline(stages=[encoder, assembler, lr])"
   ]
  },
  {
   "cell_type": "code",
   "execution_count": 0,
   "metadata": {
    "application/vnd.databricks.v1+cell": {
     "cellMetadata": {
      "byteLimit": 2048000,
      "rowLimit": 10000
     },
     "inputWidgets": {},
     "nuid": "c5466f81-a9b3-4250-9eb3-f0f183addb7d",
     "showTitle": false,
     "title": ""
    }
   },
   "outputs": [
    {
     "output_type": "stream",
     "name": "stdout",
     "output_type": "stream",
     "text": [
      "+-------------------+-------------------+---------------+------------+--------------------+--------------+-----------------+\n|           latitude|          longitude|resolution_time|agency_label|complaint_type_label|     agency_oh|complaint_type_oh|\n+-------------------+-------------------+---------------+------------+--------------------+--------------+-----------------+\n| 0.5639120396033857| 0.4870694007674338|           0.48|         0.0|                 8.0|(18,[0],[1.0])|  (223,[8],[1.0])|\n| 0.3818598552953145| 0.5278392862294812|            0.7|         0.0|                 1.0|(18,[0],[1.0])|  (223,[1],[1.0])|\n| 0.6452252755992772| 0.5927916101670575|            0.6|         7.0|                23.0|(18,[7],[1.0])| (223,[23],[1.0])|\n| 0.3818598552953145| 0.5278392862294812|           0.78|         0.0|                 1.0|(18,[0],[1.0])|  (223,[1],[1.0])|\n|0.47526957393581265|0.46871123164362943|           0.95|         0.0|                 0.0|(18,[0],[1.0])|  (223,[0],[1.0])|\n| 0.6069402333977677|0.47584460921496735|           0.48|         0.0|                19.0|(18,[0],[1.0])| (223,[19],[1.0])|\n| 0.6169085641843776| 0.5030888462537315|           1.36|         0.0|                19.0|(18,[0],[1.0])| (223,[19],[1.0])|\n| 0.4442486876798561| 0.4871072675341237|           1.41|         0.0|                 0.0|(18,[0],[1.0])|  (223,[0],[1.0])|\n|0.45742491215047637| 0.5856870834655773|            0.3|         0.0|                 1.0|(18,[0],[1.0])|  (223,[1],[1.0])|\n| 0.3764153535431389| 0.5318405412423137|           1.04|         0.0|                 3.0|(18,[0],[1.0])|  (223,[3],[1.0])|\n+-------------------+-------------------+---------------+------------+--------------------+--------------+-----------------+\nonly showing top 10 rows\n\n"
     ]
    }
   ],
   "source": [
    "encoded.show(10)"
   ]
  },
  {
   "cell_type": "markdown",
   "metadata": {
    "application/vnd.databricks.v1+cell": {
     "cellMetadata": {
      "byteLimit": 2048000,
      "rowLimit": 10000
     },
     "inputWidgets": {},
     "nuid": "574085ef-4171-4f02-b843-434b1a8f2a72",
     "showTitle": false,
     "title": ""
    }
   },
   "source": [
    "### Training"
   ]
  },
  {
   "cell_type": "code",
   "execution_count": 0,
   "metadata": {
    "application/vnd.databricks.v1+cell": {
     "cellMetadata": {
      "byteLimit": 2048000,
      "rowLimit": 10000
     },
     "inputWidgets": {},
     "nuid": "458a5bac-f113-4185-8e7a-4e8e82ddd4eb",
     "showTitle": false,
     "title": ""
    }
   },
   "outputs": [],
   "source": [
    "# Train model\n",
    "model = lr_pipeline.fit(train)\n",
    "predictions = model.transform(test)\n",
    "\n",
    "# Isolate results for brevity\n",
    "results = predictions.select('resolution_time', 'prediction').withColumnRenamed('resolution_time', 'label')"
   ]
  },
  {
   "cell_type": "markdown",
   "metadata": {
    "application/vnd.databricks.v1+cell": {
     "cellMetadata": {
      "byteLimit": 2048000,
      "rowLimit": 10000
     },
     "inputWidgets": {},
     "nuid": "bb3ca472-b90b-44df-bdbc-9c5728d9ca1d",
     "showTitle": false,
     "title": ""
    }
   },
   "source": [
    "### Testing"
   ]
  },
  {
   "cell_type": "code",
   "execution_count": 0,
   "metadata": {
    "application/vnd.databricks.v1+cell": {
     "cellMetadata": {
      "byteLimit": 2048000,
      "rowLimit": 10000
     },
     "inputWidgets": {},
     "nuid": "ae8c7882-b8ac-429b-b4c3-ce38e82b8442",
     "showTitle": false,
     "title": ""
    }
   },
   "outputs": [
    {
     "output_type": "stream",
     "name": "stdout",
     "output_type": "stream",
     "text": [
      "+-----+------------------+\n|label|        prediction|\n+-----+------------------+\n| 2.93|3.2994483143462485|\n| 2.57| 2.426788861461856|\n| 3.24|3.4664999460473345|\n| 3.66| 3.611433955042459|\n|  3.4|3.6520448993379278|\n| 4.67| 4.514522005775522|\n| 2.97|3.7244267572136516|\n|  4.0| 3.236510773165901|\n| 2.37| 2.521673386262694|\n| 2.44| 1.598721580913367|\n| 4.23|4.0229637573372115|\n| 2.31| 2.201737292780923|\n| 3.63|3.6119424917661602|\n| 3.64| 3.612419309881379|\n| 4.79| 4.117831292304799|\n| 2.97|3.8109056908183616|\n| 1.76| 1.492563983304311|\n| 4.68| 3.725150662477865|\n|  1.3|1.4929525644066957|\n| 1.62|1.4929525644066957|\n+-----+------------------+\nonly showing top 20 rows\n\n"
     ]
    }
   ],
   "source": [
    "results.show()"
   ]
  },
  {
   "cell_type": "code",
   "execution_count": 0,
   "metadata": {
    "application/vnd.databricks.v1+cell": {
     "cellMetadata": {
      "byteLimit": 2048000,
      "rowLimit": 10000
     },
     "inputWidgets": {},
     "nuid": "b2bc8a47-5b4d-4f7e-88c0-63a2b51e4024",
     "showTitle": false,
     "title": ""
    }
   },
   "outputs": [
    {
     "output_type": "stream",
     "name": "stdout",
     "output_type": "stream",
     "text": [
      "Root Mean Squared Error (RMSE) on test data = 0.594281771012872\nMean Absolute Error (MAE) on test data = 0.4355342535464535\nExeuction time: 285.8922829627991\n"
     ]
    }
   ],
   "source": [
    "from pyspark.ml.evaluation import RegressionEvaluator\n",
    "\n",
    "# Create Evaluator\n",
    "evaluator = RegressionEvaluator(predictionCol = 'prediction')\n",
    "\n",
    "# Run Evaluation on rmse & mae\n",
    "rmse = evaluator.evaluate(results, {evaluator.metricName: \"rmse\"})\n",
    "mae = evaluator.evaluate(results, {evaluator.metricName: \"mae\"})\n",
    "\n",
    "print(f\"Root Mean Squared Error (RMSE) on test data = {rmse}\")\n",
    "print(f\"Mean Absolute Error (MAE) on test data = {mae}\")\n",
    "\n",
    "# Record execution time & results\n",
    "# RMSE = [0.5924599017155424, 0.5932027183931239, 0.5940762882673567,  0.5940280721323961, 0.5935672799230375]\n",
    "# MAE = [0.4348886663006307, 0.43569725601659665, 0.43573900703691487, 0.43545428278578374, 0.4358769029366571]\n",
    "# core_times_two = [178.8632071018219, 183.33798360824585, 236.35156774520874, 240.50324726104736, 258.4136860370636]\n",
    "# core_times_four = [152.64005160331726, 178.73205757141113, 210.48839592933655, 247.11537528038025, 285.8922829627991]\n",
    "# core_times_six = [55.3837103843689, 57.47389340400696, 59.771382331848145, 68.23452496528625, 297.89829540252686]\n",
    "\n",
    "print(f'Exeuction time: {time.time() - START_TIME}')"
   ]
  }
 ],
 "metadata": {
  "application/vnd.databricks.v1+notebook": {
   "dashboards": [],
   "language": "python",
   "notebookMetadata": {
    "mostRecentlyExecutedCommandWithImplicitDF": {
     "commandId": 1766612173098563,
     "dataframes": [
      "_sqldf"
     ]
    },
    "pythonIndentUnit": 4
   },
   "notebookName": "linear-classifier",
   "widgets": {}
  }
 },
 "nbformat": 4,
 "nbformat_minor": 0
}
